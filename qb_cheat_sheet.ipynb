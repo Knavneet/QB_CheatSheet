{
 "cells": [
  {
   "cell_type": "markdown",
   "metadata": {},
   "source": [
    "1. Pick an index, i, that divides list in half.\n",
    "2. Ask if L[i] == e.\n",
    "3. If not ask if L[i] is larger than e.\n",
    "4. Depending on the answer, search left or right half of L for e."
   ]
  },
  {
   "cell_type": "markdown",
   "metadata": {},
   "source": [
    "## Bisection Search 1 "
   ]
  },
  {
   "cell_type": "code",
   "execution_count": 1,
   "metadata": {},
   "outputs": [
    {
     "name": "stdout",
     "output_type": "stream",
     "text": [
      "lis [1, 2, 3, 4, 6, 7]\n",
      "lis [4, 6, 7]\n",
      "lis [4]\n",
      "True\n"
     ]
    }
   ],
   "source": [
    "\n",
    "import random\n",
    "def bisection_search(lis,e):\n",
    "    print(\"lis\",lis)\n",
    "    if lis == []:\n",
    "        return 0\n",
    "    elif len(lis) == 1:\n",
    "        return (lis[0] == e)\n",
    "    else:\n",
    "        half = len(lis)//2\n",
    "        if lis[half] > e:\n",
    "            return bisection_search(lis[:half],e)\n",
    "        else:\n",
    "            return bisection_search(lis[half:],e)\n",
    "\n",
    "random_list = random.sample(range(1, 10), 6)\n",
    "sorted_list = sorted(random_list)\n",
    "print(bisection_search(sorted_list,4))"
   ]
  },
  {
   "cell_type": "code",
   "execution_count": 2,
   "metadata": {},
   "outputs": [
    {
     "data": {
      "text/plain": [
       "([(51, 58), (67, 74), (73, 80), (88, 95), (92, 99)], [16, 17, 18, 20, 24])"
      ]
     },
     "execution_count": 2,
     "metadata": {},
     "output_type": "execute_result"
    }
   ],
   "source": [
    "def cutoff_score(N):\n",
    "    min_list = sorted(random.sample(range(40, 100), N))\n",
    "    max_list = []\n",
    "    for ele in min_list:\n",
    "        max_list.append(ele+7)\n",
    "    #min_list[:5],max_list[:5],score_list[:5]\n",
    "    cutoff_range_list = list(zip(min_list,max_list))\n",
    "    return cutoff_range_list\n",
    "cutoff_score_list = cutoff_score(5)\n",
    "score_list = sorted(random.sample(range(16, 100), 36))\n",
    "\n",
    "cutoff_score_list,score_list[:5]"
   ]
  },
  {
   "cell_type": "markdown",
   "metadata": {},
   "source": [
    "### Solution 1"
   ]
  },
  {
   "cell_type": "code",
   "execution_count": 3,
   "metadata": {},
   "outputs": [
    {
     "data": {
      "text/plain": [
       "[3, 2, 2, 4, 5]"
      ]
     },
     "execution_count": 3,
     "metadata": {},
     "output_type": "execute_result"
    }
   ],
   "source": [
    "def candidate_counter(score_list,cutoff_score_list):\n",
    "    counter_list = []\n",
    "    for cutoff in cutoff_score_list:\n",
    "        counter = 0\n",
    "        for scores in score_list:\n",
    "            if (scores <= cutoff[1]) and (scores >= cutoff[0]):\n",
    "                counter = counter+1\n",
    "        counter_list.append(counter)\n",
    "    return counter_list\n",
    "candidate_counter(score_list,cutoff_score_list)"
   ]
  },
  {
   "cell_type": "markdown",
   "metadata": {},
   "source": [
    "### Solution 2 "
   ]
  },
  {
   "cell_type": "code",
   "execution_count": 4,
   "metadata": {},
   "outputs": [],
   "source": [
    "list1, list2 = zip(*cutoff_score_list)"
   ]
  },
  {
   "cell_type": "code",
   "execution_count": 5,
   "metadata": {},
   "outputs": [
    {
     "name": "stdout",
     "output_type": "stream",
     "text": [
      "[3, 2, 2, 4, 5]\n"
     ]
    }
   ],
   "source": [
    "\n",
    "# function to find first index >= x\n",
    "def lowerIndex(arr, n, x):\n",
    "    l = 0\n",
    "    h = n-1\n",
    "    while (l <= h):\n",
    "        mid = int((l + h)/2)\n",
    "        if (arr[mid] >= x):\n",
    "            h = mid - 1\n",
    "        else:\n",
    "            l = mid + 1\n",
    "    return l\n",
    "\n",
    " \n",
    "# function to find last index <= x\n",
    "def upperIndex(arr, n, x):\n",
    "    l = 0\n",
    "    h = n-1\n",
    "    while (l <= h):\n",
    "        mid = int((l + h)/2)\n",
    "        if (arr[mid] <= x):\n",
    "            l = mid + 1\n",
    "        else:\n",
    "            h = mid - 1\n",
    "    return h\n",
    "\n",
    " \n",
    "# function to count elements within given range\n",
    "def countInRange(arr, n, x, y):\n",
    "  # initialize result\n",
    "    count = 0;\n",
    "    count = upperIndex(arr, n, y) - lowerIndex(arr, n, x) + 1;\n",
    "    return count\n",
    "\n",
    "def jobOffers3(scores, lowerLimits, upperLimits):\n",
    "    answer = []\n",
    "    scores.sort()\n",
    "    n = len(scores)\n",
    "    for index, _ in enumerate(lowerLimits):\n",
    "        answer.append(countInRange(scores, n, lowerLimits[index], upperLimits[index]))\n",
    "    return answer\n",
    "\n",
    "# dummy inputs\n",
    "scores = [1,3,5,6,8]\n",
    "lowerLimits = [2]\n",
    "upperLimits = [6]\n",
    "\n",
    "print(jobOffers3(score_list,list1, list2))"
   ]
  },
  {
   "cell_type": "code",
   "execution_count": 6,
   "metadata": {},
   "outputs": [
    {
     "name": "stdout",
     "output_type": "stream",
     "text": [
      "/Users/navneetkumar/Downloads\r\n"
     ]
    }
   ],
   "source": [
    "!pwd"
   ]
  },
  {
   "cell_type": "code",
   "execution_count": null,
   "metadata": {},
   "outputs": [],
   "source": []
  }
 ],
 "metadata": {
  "kernelspec": {
   "display_name": "Python 3",
   "language": "python",
   "name": "python3"
  },
  "language_info": {
   "codemirror_mode": {
    "name": "ipython",
    "version": 3
   },
   "file_extension": ".py",
   "mimetype": "text/x-python",
   "name": "python",
   "nbconvert_exporter": "python",
   "pygments_lexer": "ipython3",
   "version": "3.7.1"
  }
 },
 "nbformat": 4,
 "nbformat_minor": 2
}
